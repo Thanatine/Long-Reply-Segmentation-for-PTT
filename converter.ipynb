{
 "cells": [
  {
   "cell_type": "code",
   "execution_count": 35,
   "metadata": {
    "collapsed": false
   },
   "outputs": [
    {
     "name": "stdout",
     "output_type": "stream",
     "text": [
      "['感謝大大分享 我剛開始學這些東西的時候就是看他的教材他真的教的不錯 ']\n"
     ]
    }
   ],
   "source": [
    "raw_sent = ''\n",
    "with open('input.txt') as i:\n",
    "    raw_sent = i.readlines()\n",
    "\n",
    "print(raw_sent)"
   ]
  },
  {
   "cell_type": "code",
   "execution_count": 37,
   "metadata": {
    "collapsed": false
   },
   "outputs": [
    {
     "name": "stdout",
     "output_type": "stream",
     "text": [
      "X\n",
      "感謝大大分享 我剛開始學這些東西的時候就是看他的教\n",
      "Y\n",
      "X\n",
      "材他真的教的不錯 \n",
      "Y\n"
     ]
    }
   ],
   "source": [
    "out_sent = []\n",
    "len_restricted = 25\n",
    "\n",
    "for sent in raw_sent:\n",
    "    sent = sent.replace('\\n', '')\n",
    "    for i in range(int(len(sent) / len_restricted) + 1):\n",
    "        out_sent += ['X']\n",
    "        \n",
    "        if i == len(sent):\n",
    "            out_sent += [sent[i * len_restricted : -1]]\n",
    "        else:\n",
    "            out_sent += [sent[i * len_restricted : (i + 1) * len_restricted]]\n",
    "            \n",
    "        out_sent += ['Y']\n",
    "\n",
    "for sent in out_sent:\n",
    "    print(sent)"
   ]
  },
  {
   "cell_type": "code",
   "execution_count": 39,
   "metadata": {
    "collapsed": true
   },
   "outputs": [],
   "source": [
    "with open('output.txt', 'w') as w:\n",
    "    for sent in out_sent:\n",
    "        w.write(sent)\n",
    "        w.write('\\n')"
   ]
  }
 ],
 "metadata": {
  "anaconda-cloud": {},
  "kernelspec": {
   "display_name": "Python [Root]",
   "language": "python",
   "name": "Python [Root]"
  },
  "language_info": {
   "codemirror_mode": {
    "name": "ipython",
    "version": 3
   },
   "file_extension": ".py",
   "mimetype": "text/x-python",
   "name": "python",
   "nbconvert_exporter": "python",
   "pygments_lexer": "ipython3",
   "version": "3.5.0"
  }
 },
 "nbformat": 4,
 "nbformat_minor": 0
}
